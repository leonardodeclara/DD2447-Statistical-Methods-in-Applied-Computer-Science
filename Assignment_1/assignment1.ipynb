{
  "cells": [
    {
      "cell_type": "code",
      "execution_count": 1,
      "metadata": {
        "id": "0Qx8-zLU1S8x"
      },
      "outputs": [],
      "source": [
        "# you are free to import any library you want/need\n",
        "# in fact, you will probably need to import more libraries along the way\n",
        "import numpy as np\n",
        "import matplotlib.pyplot as plt\n",
        "from scipy.special import logsumexp\n",
        "from scipy.stats import norm, gamma, beta"
      ]
    },
    {
      "cell_type": "markdown",
      "metadata": {
        "id": "7dT0k9iMN7Qz"
      },
      "source": [
        "# ***Assignment 1***\n",
        "Welcome to Assignment 1! This is an ***individual*** assignment worth 15 points in total. Exercises 1 and 2 together can give you 5 points, while exercises 3 and 4 can give you 5 points each. There is a 5 point minimum for passing this assignment (you need to pass all four assignments to pass the course).\n",
        "\n",
        "Submission details: Your submission should contain two pdf's.\n",
        "\n",
        "1. A pdf version of your filled out colaboratory on Canvas. You can do this by pressing `cmd/ctrl+p` (you know the drill from there).  \n",
        "2. For exercise 3, you need to hand in your hand-written solutions in a LaTeX pdf. We only accept solutions written in LaTeX, i.e. not Word or any other text editor. We recommend [Overleaf](https://overleaf.com), if you do not already have a favourite LaTeX editor (which is also [provided by KTH](https://intra.kth.se/en/it/programvara-o-system/programvara/installera/download/overleaf/overleaf-1.932755))."
      ]
    },
    {
      "cell_type": "markdown",
      "metadata": {
        "id": "yYbL5gYtxaKr"
      },
      "source": [
        "# ***1. Sampling and visualization***\n"
      ]
    },
    {
      "cell_type": "markdown",
      "metadata": {
        "id": "zI0caoiWW9jr"
      },
      "source": [
        "## 1.1 Common distributions\n",
        "Below we have provided an itemized list of nine common probability distributions. Your task is to sample from **five** of the distributions, one at a time, while visualizing the distributions by plotting the samples in a histogram. For each distribution, $q(x)$, state its **support** and whether it's a **continuous or discrete distribution**. To familiarize yourself with the distributions, first play around with the parameter settings, and then plot $q(x)$ for two different parameter settings using subplots.\n",
        "\n",
        "In order to sample from $q(x)$, we recommend you to use `numpy` or `sklearn`. Draw 50k samples. The simplest way to plot the distributions is by using `matplotlib`. If you want to make the plots more fancy we recommend you to check out [`seaborn`](https://seaborn.pydata.org/) or [`plotly`](https://plotly.com/python/). For visualization of the distributions using histograms, use ```bins=1000```.\n",
        "\n"
      ]
    },
    {
      "cell_type": "markdown",
      "metadata": {
        "id": "yAUyhTIC0Ppd"
      },
      "source": [
        "### ***List of distributions***\n",
        "\n",
        "\n",
        "*   $q(x) = \\mathcal{N}(x|\\mu, \\sigma^2)$\n",
        "*   $q(x) = \\text{Poisson}(x|\\lambda)$\n",
        "*   $q(x) = \\text{Exp}(x|\\lambda)$\n",
        "*   $q(x) = \\text{Beta}(x|\\alpha, \\beta)$\n",
        "*   $q(x) = \\text{Gamma}(x|\\alpha, \\beta)$\n",
        "*   $q(x) = \\text{Dirichlet}(x_1, x_2, x_3|\\alpha_1, \\alpha_2, \\alpha_3)$\n",
        "*   $q(x) = \\text{Categorical}(x|p_1, p_2, p_3)$"
      ]
    },
    {
      "cell_type": "markdown",
      "metadata": {
        "id": "tIG4yF607p_e"
      },
      "source": [
        "### **Normal distribution**\n",
        "$q(x) = \\mathcal{N}(x|\\mu, \\sigma^2)$"
      ]
    },
    {
      "cell_type": "markdown",
      "metadata": {
        "id": "L3e2VqJCB_BJ"
      },
      "source": [
        "---\n",
        "\n",
        "\n",
        "1. What is the support of q(x)?\n",
        "\n",
        "*Answer here*\n",
        "\n",
        "2. Is q(x) continuous or discrete?\n",
        "\n",
        "*Answer here*\n",
        "\n",
        "3. Draw 50k samples from q(x) and visualize the distribution of the samples in the cell below for *two* parameter settings."
      ]
    },
    {
      "cell_type": "code",
<<<<<<< HEAD
      "execution_count": null,
      "metadata": {
        "id": "XYFDR3FbAwIT"
      },
      "outputs": [],
      "source": [
        "# Sample and visualize here"
=======
      "execution_count": 18,
      "metadata": {
        "id": "XYFDR3FbAwIT"
      },
      "outputs": [
        {
          "data": {
            "image/png": "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",
            "text/plain": [
              "<Figure size 1000x500 with 2 Axes>"
            ]
          },
          "metadata": {},
          "output_type": "display_data"
        }
      ],
      "source": [
        "# Sample and visualize here\n",
        "\n",
        "fig,axs=plt.subplots(1,2, figsize=(10,5))\n",
        "samples = np.random.normal(0, 1, 50000)\n",
        "axs[0].hist(samples, bins=1000)\n",
        "axs[0].set_title(\"Normal Distribution (mean=0, variance=1)\")\n",
        "\n",
        "samples = np.random.normal(10, 4, 50000)\n",
        "axs[1].hist(samples, bins=1000, color=\"orange\")\n",
        "axs[1].set_title(\"Normal Distribution (mean=10, variance=4)\")\n",
        "plt.show()\n"
>>>>>>> 9705f6a548d01a74161f15f9697e23720ca59aaf
      ]
    },
    {
      "cell_type": "markdown",
      "metadata": {
        "id": "S7fVyQsCAujB"
      },
      "source": [
        "*Which parameter values did you use in the two plots?*\n",
        "\n",
        "*Answer here*\n",
        "\n",
        "---"
      ]
    },
    {
      "cell_type": "markdown",
      "metadata": {
        "id": "zOmfDFhICfmG"
      },
      "source": [
        "### **Poisson distribution**\n",
        "$q(x) = \\text{Poisson}(x|\\lambda)$\n",
        "\n",
        "\n"
      ]
    },
    {
      "cell_type": "markdown",
      "metadata": {
        "id": "be53S1ipCfmG"
      },
      "source": [
        "---\n",
        "\n",
        "\n",
        "1. What is the support of q(x)?\n",
        "\n",
        "*Answer here*\n",
        "\n",
        "2. Is q(x) continuous or discrete?\n",
        "\n",
        "*Answer here*\n",
        "\n",
        "3. Sample from q(x) and visualize the distribution of the samples in the cell below for *two* parameter settings."
      ]
    },
    {
      "cell_type": "code",
<<<<<<< HEAD
      "execution_count": 15,
      "metadata": {
        "id": "WW4Ezr4_CfmG"
      },
      "outputs": [
        {
          "data": {
            "image/png": "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",
            "text/plain": [
              "<Figure size 640x480 with 2 Axes>"
            ]
          },
          "metadata": {},
          "output_type": "display_data"
        }
      ],
      "source": [
        "# Sample and visualize here\n",
        "s = np.random.poisson(5, 50000)\n",
        "t = np.random.poisson(10, 50000)\n",
        "fig, (ax1, ax2) = plt.subplots(1, 2)\n",
        "ax1.hist(s, 1000, density = True)\n",
        "ax1.title(\"Lambda = 5\")\n",
        "ax2.hist(t, 1000, color = 'orange', density = True)\n",
        "ax2.title(\"Lambda = 10\")\n",
        "plt.show()\n"
=======
      "execution_count": null,
      "metadata": {
        "id": "WW4Ezr4_CfmG"
      },
      "outputs": [],
      "source": [
        "# Sample and visualize here"
>>>>>>> 9705f6a548d01a74161f15f9697e23720ca59aaf
      ]
    },
    {
      "cell_type": "markdown",
      "metadata": {
        "id": "f_79eywMCfmR"
      },
      "source": [
        "*Which parameter value did you use?*\n",
        "\n",
        "*Answer here*\n",
        "\n",
        "---"
      ]
    },
    {
      "cell_type": "markdown",
      "metadata": {
        "id": "JKtHYgXZDBMb"
      },
      "source": [
        "### **Exponential distribution**\n",
        "$q(x) = \\text{Exp}(x|\\lambda)$\n",
        "\n",
        "\n"
      ]
    },
    {
      "cell_type": "markdown",
      "metadata": {
        "id": "K7YKIpVxDBMo"
      },
      "source": [
        "---\n",
        "\n",
        "\n",
        "1. What is the support of q(x)?\n",
        "\n",
        "*Answer here*\n",
        "\n",
        "2. Is q(x) continuous or discrete?\n",
        "\n",
        "*Answer here*\n",
        "\n",
        "3. Sample from q(x) and visualize the distribution of the samples in the cell below  for *two* parameter settings."
      ]
    },
    {
      "cell_type": "code",
      "execution_count": null,
      "metadata": {
        "id": "1BSpGHkJDBMo"
      },
      "outputs": [],
      "source": [
        "# Sample and visualize here"
      ]
    },
    {
      "cell_type": "markdown",
      "metadata": {
        "id": "9fPDYJbiDBMo"
      },
      "source": [
        "*Which parameter value did you use?*\n",
        "\n",
        "*Answer here*\n",
        "\n",
        "---"
      ]
    },
    {
      "cell_type": "markdown",
      "metadata": {
        "id": "TmRkOhn8DZXf"
      },
      "source": [
        "### **Beta distribution**\n",
        "$q(x) = \\text{Beta}(x|\\alpha, \\beta)$\n",
        "\n",
        "\n"
      ]
    },
    {
      "cell_type": "markdown",
      "metadata": {
        "id": "OUdTYsjyDZXg"
      },
      "source": [
        "---\n",
        "\n",
        "\n",
        "1. What is the support of q(x)?\n",
        "\n",
        "*Answer here*\n",
        "\n",
        "2. Is q(x) continuous or discrete?\n",
        "\n",
        "*Answer here*\n",
        "\n",
        "3. Sample from q(x) and visualize the distribution of the samples in the cell below for *two* parameter settings."
      ]
    },
    {
      "cell_type": "code",
      "execution_count": null,
      "metadata": {
        "id": "zUbLwrcyDZXg"
      },
      "outputs": [],
      "source": [
        "# Sample and visualize here"
      ]
    },
    {
      "cell_type": "markdown",
      "metadata": {
        "id": "Dc_odH_JDZXh"
      },
      "source": [
        "*Which parameter values did you use?*\n",
        "\n",
        "*Answer here*\n",
        "\n",
        "---"
      ]
    },
    {
      "cell_type": "markdown",
      "metadata": {
        "id": "bw4HlQRRDkNo"
      },
      "source": [
        "### **Gamma distribution**\n",
        "$q(x) = \\text{Gamma}(x|\\alpha, \\beta)$\n",
        "\n",
        "\n"
      ]
    },
    {
      "cell_type": "markdown",
      "metadata": {
        "id": "4zXh5GRIDkNp"
      },
      "source": [
        "---\n",
        "\n",
        "\n",
        "1. What is the support of q(x)?\n",
        "\n",
        "*Answer here*\n",
        "\n",
        "2. Is q(x) continuous or discrete?\n",
        "\n",
        "*Answer here*\n",
        "\n",
        "3. Sample from q(x) and visualize the distribution of the samples in the cell below for *two* parameter settings."
      ]
    },
    {
      "cell_type": "code",
      "execution_count": null,
      "metadata": {
        "id": "cPHihPp9DkNp"
      },
      "outputs": [],
      "source": [
        "# Sample and visualize here"
      ]
    },
    {
      "cell_type": "markdown",
      "metadata": {
        "id": "VoKtv7fLDkNp"
      },
      "source": [
        "*Which parameter values did you use?*\n",
        "\n",
        "*Answer here*\n",
        "\n",
        "---"
      ]
    },
    {
      "cell_type": "markdown",
      "metadata": {
        "id": "MERzkvS1Drmd"
      },
      "source": [
        "### **Dirichlet distribution**\n",
        "$q(x) = \\text{Dirichlet}(x_1, x_2, x_3|\\alpha_1, \\alpha_2, \\alpha_3)$\n",
        "\n",
        "**Important note**: the Dirichlet distribution is best visualized using a *simplex*, or a historgram with a *single* sample. See Fig. 2.14 or 2.15 in [Murphy's book](http://noiselab.ucsd.edu/ECE228/Murphy_Machine_Learning.pdf), respectively, for visualization examples.\n"
      ]
    },
    {
      "cell_type": "markdown",
      "metadata": {
        "id": "oXufF17WDrme"
      },
      "source": [
        "---\n",
        "\n",
        "\n",
        "1. What is the support of q(x)?\n",
        "\n",
        "*Answer here*\n",
        "\n",
        "2. Is q(x) continuous or discrete?\n",
        "\n",
        "*Answer here*\n",
        "\n",
        "3. Sample from q(x) and visualize the distribution of the samples in the cell below. Either using a simplex or a histogram with a single sample for *two* parameter settings."
      ]
    },
    {
      "cell_type": "code",
      "execution_count": null,
      "metadata": {
        "id": "NzAV9-MWDrme"
      },
      "outputs": [],
      "source": [
        "# Sample and visualize here"
      ]
    },
    {
      "cell_type": "markdown",
      "metadata": {
        "id": "5A6nAhGCDrme"
      },
      "source": [
        "*Which parameter values did you use?*\n",
        "\n",
        "*Answer here*\n",
        "\n",
        "---"
      ]
    },
    {
      "cell_type": "markdown",
      "metadata": {
        "id": "MHwBBypIDTpd"
      },
      "source": [
        "### **Categorical distribution**\n",
        "$q(x) = \\text{Categorical}(x|p_1, p_2, p_3)$\n",
        "\n",
        "\n"
      ]
    },
    {
      "cell_type": "markdown",
      "metadata": {
        "id": "vvbB3e_CDTpl"
      },
      "source": [
        "---\n",
        "\n",
        "\n",
        "1. What is the support of q(x)?\n",
        "\n",
        "*Answer here*\n",
        "\n",
        "2. Is q(x) continuous or discrete?)\n",
        "\n",
        "*Answer here*\n",
        "\n",
        "3. Sample from q(x) and visualize the distribution of the samples in the cell below for *two* parameter settings."
      ]
    },
    {
      "cell_type": "code",
      "execution_count": null,
      "metadata": {
        "id": "PggFvEp2DTpl"
      },
      "outputs": [],
      "source": [
        "# Sample and visualize here"
      ]
    },
    {
      "cell_type": "markdown",
      "metadata": {
        "id": "Ln4mxU6QDTpl"
      },
      "source": [
        "*Which parameter values did you use?*\n",
        "\n",
        "*Answer here*\n",
        "\n",
        "---"
      ]
    },
    {
      "cell_type": "markdown",
      "metadata": {
        "id": "T8_dSSbPBSjB"
      },
      "source": [
        "## 1.2 What if you are interested in a distribution which is not covered in the standard programming libraries?\n",
        "\n",
        "Let $p(x)$ be a non-standard and unnormalized distribution, say\n",
        "\n",
        "$p(x) = e^{-\\alpha x} e^{-\\lambda x}$, $x \\geq 0$\n",
        "\n",
        "then how can we sample from it? Although it is not a complex distribution, it is not available in `numpy` nor `sklearn`.\n",
        "\n",
        "We can resolve the dilemma via a clever trick using the cumulative density function (CDF) and the uniform distribution, $\\mathcal{U}([0,1])$. But first, you will need to normalize $p(x)$.\n",
        "\n",
        "Read the instructions in Murphy (ch. 23.2.1) to sample from the normalized $p(x)$. Use $\\alpha=0.5$ and $\\lambda=1.0$ and visualize the samples below in the same manner as you have done above (but for a single parameter setting, obviously). Also, include your derivation in the text cell below.\n",
        "\n",
        "**Hint:** to normalize a distribution, you need to compute the normalizing constant $$C=\\int_{\\mathbb{R}} p(x) dx,$$\n",
        "such that\n",
        "$$\\int_{\\mathbb{R}} p(x) / C dx = 1.$$"
      ]
    },
    {
      "cell_type": "markdown",
      "metadata": {
        "id": "w37iC0v7JKUO"
      },
      "source": [
        "*Put derivations here*"
      ]
    },
    {
      "cell_type": "code",
      "execution_count": null,
      "metadata": {
        "id": "mRFI9ff7JOiu"
      },
      "outputs": [],
      "source": [
        "# code to sample from and visualize p(x) here"
      ]
    },
    {
      "cell_type": "markdown",
      "metadata": {
        "id": "nOJCovu4250s"
      },
      "source": [
        "# ***2. Simple Density Estimation***"
      ]
    },
    {
      "cell_type": "markdown",
      "metadata": {
        "id": "sM384t_HsU0k"
      },
      "source": [
        "In the literature empirical distributions are often assumed to be approximately Gaussian/Normal for plenty of (often good) reasons. The central limit theorem tells us that this is an appropriate assumption for large amounts of data (under mild conditions), and, furthermore, the Normal distribution is very well-studied.\n",
        "\n",
        "But, of course, assuming normality is far from the best idea in a lot of cases. In this section we will do analysis on a non-Gaussian and non-standard distribution. Assuming we are constrained to choose one of the common distributions in the list of distributions above, which distribution is the best match to the non-standard one? How can we motivate this choice? This is a simple form of density estimation -- the first practical encounter of it in this course."
      ]
    },
    {
      "cell_type": "markdown",
      "metadata": {
        "id": "_ieAt4Vh7GcH"
      },
      "source": [
        "## 2.1 Analyze $p(x)$\n",
        "\n",
        "Use `np.load` to load the distribution, $p(x)$, provided in `ass1_dist.npy`.\n",
        "\n",
        "Visualize $p(x)$ using a histogram starting with `bins=1000`. Then, play around with the number of bins in order to be able to answer the two following questions:\n",
        "\n",
        "1.   What is a reasonable assumption regarding the support of $p(x)$. Motivate.\n",
        "\n",
        "*Answer here*\n",
        "\n",
        "2.   Do you think $p(x)$ is best described by a continuous or discrete pdf based on the visualized samples? Explain your thinking.\n",
        "\n",
        "*Answer here*\n",
        "\n"
      ]
    },
    {
      "cell_type": "markdown",
      "metadata": {
        "id": "FbdX6VnLVrOU"
      },
      "source": [
        "## 2.2. Fit $q(x)$ to $p(x)$\n",
        "\n",
        "Now, based on your conclusions in 2.1 (support and contiuous or discrete pdf), and given the set of distributions itemized in section 1.1, choose three $q(x)$ and match them to $p(x)$. For each of your three choices, match them by\n",
        "\n",
        "\n",
        "1.   visualizing both $p(x)$ and $q(x)$ in the same histogram.\n",
        "2.   using ``` scipy.stats``` to compute the log-likelihood of the data (the samples from $p(x)$) for $q(x)$. Maximize the log-likelihoods of the data for your choice of $q(x)$ by **manually** tuning and reporting its parameters.\n",
        "\n"
      ]
    },
    {
      "cell_type": "markdown",
      "metadata": {
        "id": "ssnXnvPu21JX"
      },
      "source": [
        "# ***3. Paper and pen exercises***\n",
        "\n",
        "***Before starting with the pen and paper exercise, note that you are asked to submit your solutions for 3.1, 3.2 and 3.3 using LaTeX. Download the LaTeX file (the pdf) and submit it to Canvas together with the a pdf version of this notebook.***\n",
        "\n",
        "Here you are tasked with solving three pen and paper exercises. The two first exercises concern exact marginal likelihood inference, and aim to highlight that, indeed, there are cases where exact inference is acheivable. In these exercises, the marginal likelihoods are discrete and computed using enumeration, i.e., enumerating and summing over all possible outcomes. However, as you can imagine, enumeration is possible in far from all settings. In fact, we are often interested computing marginal likelihoods which requiring marginalization over extremely many, or even infinitely many, dimensions/outcomes.  We will see how to handle these cases later in the course.\n",
        "\n",
        "\n",
        "Finally, in the last exercise, you are asked to compute the posterior predictive distribution. An important technique for doing Bayesian model averaging."
      ]
    },
    {
      "cell_type": "markdown",
      "metadata": {
        "id": "duVN63nobCMf"
      },
      "source": [
        "## 3.1 Deriving the Log-Normal pdf using the transformation theorem\n",
        "Using the Gaussian pdf, $p(x) = \\mathcal{N}(x|\\mu, \\sigma^2)$, as base distribution and the exponential function as your bijective mapping, derive the Log-Normal pdf using the transformation theorem.\n",
        "\n",
        "See the slides from lecture 2 for more details. Explain and motivate the result."
      ]
    },
    {
      "cell_type": "markdown",
      "metadata": {
        "id": "T6vkJF8c8Lc7"
      },
      "source": [
        "## 3.2 Exact marginal likelihood inference (Burglars and earthquakes)\n",
        "(After Pearl, 1988) You live in a seismologically instable region and are commuting to work every day. One day your neighbor calls you whilst on your way home to let you know that your burglar alarm is ringing. Since you always parse the world through the lens of probability theory, the first question that pops into your head is, of course: **what's the probability that there's actually been a burglary in my home?** Interrupted in your Bayesian thoughts, you hear the radio saying that there's been an earthquake in the region. Aha, we are now dealing with a conditional probabilty! **Could the alarm have been triggered by the earthquake?**\n",
        "\n",
        "\n",
        "You repeat the events and assign them variables: $a$ (the burglar alarm is ringing), $e$ (there's been an earthquake), $b$ (there's been a burglar in your home), $c$ (you received a phone call from you nehighbor), and $r$ (you heard the radio informing about the earthquake). The joint probabilty of these variables can be written and factorized as follows (using some independance assumptions)\n",
        "\n",
        "$p(a, b, e, c, r) =  p(b) \\; p(e) \\; p(a|b, e) \\; p(r|e) \\; p(c|a)$.\n",
        "\n",
        "In terms of the introduced variables, we are interested in calculating the probability $p(b|e=1, a=1)$.\n",
        "\n",
        "Next you assign reasonable values to these probabilities based on region-specific statistics you have come across. Apparently, there's an earthquake in the region every third year, giving\n",
        "\n",
        "$p(e=1) = \\epsilon = $ *fill in value*,\n",
        "\n",
        "and there's a burglary every second year\n",
        "\n",
        "$p(b=1) = \\beta = $ *fill in value*.\n",
        "\n",
        "Also, you know that the recall of the alarm is $\\alpha_b = 0.99$. That is, when burglars break in to your home, the alarm rings in 99% of the cases. You estimate that $1/100$ of all alarms are triggered by earthquakes, $\\alpha_e = 0.01$, and that the alarm rings for some other unknown reason with probability $1/1000$, $f=0.001$. You conclude that these are the only reasons that the alarm could possibly ring.\n",
        "\n",
        "*List all possible values for $p(a|b, e)$, i.e. $p(a=1|b=1, a=1)$ etc.*\n",
        "\n",
        "Proceed by assuming that your neighbor would never call you unless the alarm was ringing, and that the news reporter on the radio is fully reliable. Then, derive the posterior distribution $p(b, e|a=1)$ using Bayes' theorem.\n",
        "\n",
        "Finally we are able to answer our question: given all you know, what is the probability that there is a burglar in your home? *Compute $p(b=1|e=1,a=1)$. Importantly, clearly state when you use Bayes' theorem (rule), and when you use the law of total probability. I.e., wright it out explicitly.*\n",
        "\n",
        "Comment: the point of this exercise it to demonstrate that computing the marginal likelihood is tedious–even when there are only a few binary variables. More complicated settings will make the computation of the marginal likelihood intractable, and so we will need the techniques that we will discuss later in the course.\n"
      ]
    },
    {
      "cell_type": "markdown",
      "metadata": {
        "id": "DiZRUhJIa2W8"
      },
      "source": [
        "## 3.3 Posterior Predictive\n",
        "(Murphy, exercise 3.14) *Posterior predictive for Dirichlet-multinomial*\n",
        "\n",
        "(i) Suppose we compute the empirical distribution over letters of the Roman alphabet plus the\n",
        "space character (a distribution over 27 values) from 2000 samples. Suppose we see the\n",
        "letter ”e” 260 times. What is $p(x_{2001}=e|D)$, if we assume $\\theta \\sim Dir(\\alpha_1,..., \\alpha_{27})$, where $\\alpha_k = 10$ for all $k$?\n",
        "\n",
        "(ii) Suppose, in the 2000 samples, we saw ”e” 260 times, ”a” 100 times, and ”p” 87 times. What is $p(x_{2001}=e, x_{2002}=a|D)$, if we assume $\\theta \\sim Dir(\\alpha_1,..., \\alpha_{27})$, where $\\alpha_k = 10$ for all $k$? Show your work."
      ]
    },
    {
      "cell_type": "markdown",
      "metadata": {
        "id": "dM_IzpFlEI3O"
      },
      "source": [
        "# ***4. Monte Carlo Simulation***\n",
        "Monte Carlo methods is a very useful class of inference methods for sampling-based approximations. This course largely focuses on Monte Carlo methods for approximating unknown and/or intractable functions/distributions. In this assignment we study some of the building blocks of Monte Carlo methods: the effect of law of large numbers, Monte Carlo sampling for approximating a function, and importance sampling.\n",
        "\n"
      ]
    },
    {
      "cell_type": "markdown",
      "metadata": {
        "id": "UjVuXnqxvEPA"
      },
      "source": [
        "## 4.1 Approximate the mean of a LogNormal distribution using the Law of Large Numbers\n",
        "The LogNormal is a very important distribution, which can be used to model the distribution of quantities such as time, the values of purchases, or distances.\n",
        "\n",
        "Here we assume that we are sequentially obtaining data that we believe are coming from a LogNormal distribution. Eventually, we will receive a sufficient amount of data to accurately approximate the true mean of the LogNormal distribution. This follows from the Law of Large Numbers:\n",
        "\n",
        "Let, $$a = \\mathbb{E}_{p(x)}[g(x)]$$ and $$\\hat{a}_n = \\frac{1}{n}\\sum_{i=1}^nx_i,$$ where $x_i\\sim p(x)$, then $$\\lim_{n→\\infty}\\hat{a}_n = a.$$ Meanwhile, for all finite (natural) numbers of $n$, we say that $$\\hat{a}_n\\approx a,$$ or, in words, $\\hat{a}_n$ is a Monte Carlo estimate of $a$."
      ]
    },
    {
      "cell_type": "markdown",
      "metadata": {
        "id": "6qpx34J9JOPd"
      },
      "source": [
        "To sample from a LogNormal, use the following scheme.\n",
        "\n",
        "Let $$z_i \\sim \\mathcal{N}(\\mu, \\sigma^2),$$ and set $$x_i = \\exp(z_i).$$ This is equivalent to sampling $x_i$ from $\\log\\mathcal{N}(\\mu, \\sigma^2)$."
      ]
    },
    {
      "cell_type": "markdown",
      "metadata": {
        "id": "ETH7am6IVvGD"
      },
      "source": [
        "### 4.1.1\n",
        "\n",
        "Let $\\mu = 1$ and $\\sigma^2 = 5$, and set $p(x|\\mu, \\sigma^2) = \\log\\mathcal{N}(\\mu, \\sigma^2)$. Compute the mean of the LogNormal distribution in the cell below. This should be done using the expression for the mean of the LogNormal (i.e., do not approximate it). *Hint: it's not equal to $\\mu$*."
      ]
    },
    {
      "cell_type": "markdown",
      "metadata": {
        "id": "qptd9M8auMKx"
      },
      "source": [
        "$m = \\mathbb{E}_{p(x|\\mu, \\sigma^2)}[x] =$ *Answer here*"
      ]
    },
    {
      "cell_type": "markdown",
      "metadata": {
        "id": "NdFUrA1kyVPX"
      },
      "source": [
        "### 4.1.2\n",
        "Use the provided plotting function to plot how the Monte Carlo approximation improves with more data.\n",
        "\n",
        "First you will need to sample $n=100,000$ samples from $p(x|\\mu, \\sigma^2)$ using numpy and the scheme provided above. Observe that when sampling from a normal distribution in numpy, the second argument is the standard deviation not the variance."
      ]
    },
    {
      "cell_type": "code",
      "execution_count": null,
      "metadata": {
        "id": "QgU16OEXwCkh"
      },
      "outputs": [],
      "source": [
        "import matplotlib.pyplot as plt\n",
        "import numpy as np\n",
        "\n",
        "\n",
        "def plot_means(m, data):\n",
        "    # data should be an n long array\n",
        "    n = len(data)\n",
        "    sequential_estimates = []\n",
        "    for i in range(1, n + 1):\n",
        "        m_hat_i =  # compute the monte carlo approximation of m using only\n",
        "        # the data points x_1,..., x_i\n",
        "        sequential_estimates.append(m_hat_i)\n",
        "    plt.plot(sequential_estimates, label=r'$\\hat{m}_i$')\n",
        "    plt.axhline(m, 0, n, color='red', label='$m$')\n",
        "    plt.legend(loc='best')\n",
        "    plt.show()\n",
        "\n",
        "np.random.seed(0)  # don't change the seed\n",
        "# code the sampling scheme below here (it's important that you use the provided seed)"
      ]
    },
    {
      "cell_type": "markdown",
      "metadata": {
        "id": "ouM2YWSDzUmm"
      },
      "source": [
        "### 4.1.3\n",
        "Repeat the experiment above but now use $\\sigma^2 = 1$. Plot the approximations, and explain why the approximations converge with less data. Reflect on the limitation of the Law of Large Numbers here."
      ]
    },
    {
      "cell_type": "markdown",
      "metadata": {
        "id": "P9mWySJQzpX2"
      },
      "source": [
        "*Answer here*"
      ]
    },
    {
      "cell_type": "markdown",
      "metadata": {
        "id": "-VYR4S03WsWl"
      },
      "source": [
        "## 4.2 Approximating a function using Monte Carlo Approximation\n",
        "\n"
      ]
    },
    {
      "cell_type": "markdown",
      "metadata": {
        "id": "WU3nx7_G14cL"
      },
      "source": [
        "Say that there is a competition where people are rewarded for exiting a maze as fast as possible. The distribution of the time it takes for a competitor to exit the maze follows a LogNormal distribution with $\\mu=5$ and $\\sigma^2 = 1$.\n",
        "\n",
        "You design a prize function, rewarding competitors that make it out of the maze faster: $$g(x) = 1000\\exp(-x / 10).$$\n",
        "\n",
        "On average, what is the reward that the organizers will have to pay? Approximate the quantity using Monte Carlo approximation."
      ]
    },
    {
      "cell_type": "markdown",
      "metadata": {
        "id": "4CcqfBe6zI46"
      },
      "source": [
        "*Answer here*"
      ]
    },
    {
      "cell_type": "markdown",
      "metadata": {
        "id": "n3KZ0wd46KDk"
      },
      "source": [
        "The organizers have a budget of 10,000 SEK, and want as many competitors to participate as possible. They ask you to tell them what the maximum number of competitors, $C^*$, is, such that the budget is maintaned with 90% probability, i.e. $$\\mathbb{P}\\left(\\sum_{i=1}^{C} g(x_i) < 10000\\right) < 0.9.$$\n",
        "\n",
        "Demonstrate that your estimate is robust by including the standard deviation of your estimate.\n",
        "\n",
        "*Hint: Use the identity that $\\mathbb{P}(\\mathbb{1}_{\\{y < k\\}}(y)) = \\mathbb{E}_{p(y)}[y < k]$.*"
      ]
    },
    {
      "cell_type": "markdown",
      "metadata": {
        "id": "wHmewp-p6fGJ"
      },
      "source": [
        "*Answer here*"
      ]
    },
    {
      "cell_type": "markdown",
      "metadata": {
        "id": "Rc6iAJmLRJCn"
      },
      "source": [
        "## 4.3 Plot a disk using importance sampling\n",
        "In the lectures we covered importance sampling (IS) as an alternative to standard Monte Carlo sampling. IS is a simple and flexible solution when a distribution of interest is difficult, or impossible, to sample from.\n",
        "\n",
        "In this assignment, let $p(x)$ be a disk with all its probability density uniformly distributed on it. Let it have 0.5 radius, $r=0.5$, and be centered in (0, 0). It is not impossible to sample from $p(x)$ directly–it would most likely require the transformation theorem or another trick.\n",
        "\n",
        "Instead of sampling from $p(x)$ directly, we can easily sample from a Normal distribution. Let the proposal distribution, $q(x)$, be a Normal distribution with $\\mu=(0,0)^T$ and $\\Sigma=\\begin{pmatrix}0.5 & 0\\\\0 & 0.5\\end{pmatrix}$. Samples drawn from a proposal distribution in IS are called *importance samples*.\n",
        "\n",
        "Assignment:\n",
        "\n",
        "1.  Model the target pdf, $p(x)$. You can use an indicator function. Be clear about what the corresponding \"indicator\" set is.\n",
        "\n",
        "2.  Draw 20k importance samples from $q(x)$ and compute the corresponding *importance weights*, using $p(x)$ as the target distribution.\n",
        "\n",
        "3.  Plot the importance samples in a scatter plot, using the corresponding importance weights as colors for the different points. The result should be a non-uniform distribution over the disk. Why is it non-uniform? Explain the distribution of importance weights.\n",
        "\n",
        "4. How can you change the parameters in $q(x)$ in order to make the distribution of importance weights more uniform over the disk?"
      ]
    },
    {
      "cell_type": "markdown",
      "metadata": {
        "id": "V5mK0StwPWj-"
      },
      "source": [
        "*Express the resulting likelihood function from 1 here.*"
      ]
    },
    {
      "cell_type": "code",
      "execution_count": null,
      "metadata": {
        "id": "HksEp0SCP641"
      },
      "outputs": [],
      "source": [
        "# compute the importance weights and plot the colored points here"
      ]
    },
    {
      "cell_type": "markdown",
      "metadata": {
        "id": "qEJjbAL7P21R"
      },
      "source": [
        "*Answer the questions in 3 here.*"
      ]
    },
    {
      "cell_type": "markdown",
      "metadata": {
        "id": "Yz4XeFKoQwJx"
      },
      "source": [
        "*Answer question 4 here.*"
      ]
    }
  ],
  "metadata": {
    "colab": {
      "provenance": [],
      "toc_visible": true
    },
    "kernelspec": {
      "display_name": "Python 3",
      "name": "python3"
    },
    "language_info": {
      "codemirror_mode": {
        "name": "ipython",
        "version": 3
      },
      "file_extension": ".py",
      "mimetype": "text/x-python",
      "name": "python",
      "nbconvert_exporter": "python",
      "pygments_lexer": "ipython3",
<<<<<<< HEAD
      "version": "3.12.0"
=======
      "version": "3.11.5"
>>>>>>> 9705f6a548d01a74161f15f9697e23720ca59aaf
    }
  },
  "nbformat": 4,
  "nbformat_minor": 0
}
