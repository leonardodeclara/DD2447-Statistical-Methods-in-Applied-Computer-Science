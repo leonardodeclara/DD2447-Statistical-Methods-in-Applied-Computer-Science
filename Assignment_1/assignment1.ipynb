{
  "cells": [
    {
      "cell_type": "code",
      "execution_count": 2,
      "metadata": {
        "id": "0Qx8-zLU1S8x"
      },
      "outputs": [],
      "source": [
        "# you are free to import any library you want/need\n",
        "# in fact, you will probably need to import more libraries along the way\n",
        "import numpy as np\n",
        "import matplotlib.pyplot as plt\n",
        "from scipy.special import logsumexp\n",
        "from scipy.stats import norm, gamma, beta"
      ]
    },
    {
      "cell_type": "markdown",
      "metadata": {
        "id": "7dT0k9iMN7Qz"
      },
      "source": [
        "# ***Assignment 1***\n",
        "Welcome to Assignment 1! This is an ***individual*** assignment worth 15 points in total. Exercises 1 and 2 together can give you 5 points, while exercises 3 and 4 can give you 5 points each. There is a 5 point minimum for passing this assignment (you need to pass all four assignments to pass the course).\n",
        "\n",
        "Submission details: Your submission should contain two pdf's.\n",
        "\n",
        "1. A pdf version of your filled out colaboratory on Canvas. You can do this by pressing `cmd/ctrl+p` (you know the drill from there).  \n",
        "2. For exercise 3, you need to hand in your hand-written solutions in a LaTeX pdf. We only accept solutions written in LaTeX, i.e. not Word or any other text editor. We recommend [Overleaf](https://overleaf.com), if you do not already have a favourite LaTeX editor (which is also [provided by KTH](https://intra.kth.se/en/it/programvara-o-system/programvara/installera/download/overleaf/overleaf-1.932755))."
      ]
    },
    {
      "cell_type": "markdown",
      "metadata": {
        "id": "yYbL5gYtxaKr"
      },
      "source": [
        "# ***1. Sampling and visualization***\n"
      ]
    },
    {
      "cell_type": "markdown",
      "metadata": {
        "id": "zI0caoiWW9jr"
      },
      "source": [
        "## 1.1 Common distributions\n",
        "Below we have provided an itemized list of nine common probability distributions. Your task is to sample from **five** of the distributions, one at a time, while visualizing the distributions by plotting the samples in a histogram. For each distribution, $q(x)$, state its **support** and whether it's a **continuous or discrete distribution**. To familiarize yourself with the distributions, first play around with the parameter settings, and then plot $q(x)$ for two different parameter settings using subplots.\n",
        "\n",
        "In order to sample from $q(x)$, we recommend you to use `numpy` or `sklearn`. Draw 50k samples. The simplest way to plot the distributions is by using `matplotlib`. If you want to make the plots more fancy we recommend you to check out [`seaborn`](https://seaborn.pydata.org/) or [`plotly`](https://plotly.com/python/). For visualization of the distributions using histograms, use ```bins=1000```.\n",
        "\n"
      ]
    },
    {
      "cell_type": "markdown",
      "metadata": {
        "id": "yAUyhTIC0Ppd"
      },
      "source": [
        "### ***List of distributions***\n",
        "\n",
        "\n",
        "*   $q(x) = \\mathcal{N}(x|\\mu, \\sigma^2)$\n",
        "*   $q(x) = \\text{Poisson}(x|\\lambda)$\n",
        "*   $q(x) = \\text{Exp}(x|\\lambda)$\n",
        "*   $q(x) = \\text{Beta}(x|\\alpha, \\beta)$\n",
        "*   $q(x) = \\text{Gamma}(x|\\alpha, \\beta)$\n",
        "*   $q(x) = \\text{Dirichlet}(x_1, x_2, x_3|\\alpha_1, \\alpha_2, \\alpha_3)$\n",
        "*   $q(x) = \\text{Categorical}(x|p_1, p_2, p_3)$"
      ]
    },
    {
      "cell_type": "markdown",
      "metadata": {
        "id": "tIG4yF607p_e"
      },
      "source": [
        "### **Normal distribution**\n",
        "$q(x) = \\mathcal{N}(x|\\mu, \\sigma^2)$"
      ]
    },
    {
      "cell_type": "markdown",
      "metadata": {
        "id": "L3e2VqJCB_BJ"
      },
      "source": [
        "---\n",
        "\n",
        "\n",
        "1. What is the support of q(x)?\n",
        "\n",
        "*Answer here*\n",
        "\n",
        "2. Is q(x) continuous or discrete?\n",
        "\n",
        "*Answer here*\n",
        "\n",
        "3. Draw 50k samples from q(x) and visualize the distribution of the samples in the cell below for *two* parameter settings."
      ]
    },
    {
      "cell_type": "code",
      "execution_count": 4,
      "metadata": {
        "id": "XYFDR3FbAwIT"
      },
      "outputs": [
        {
          "data": {
            "image/png": "[encoded data removed]",
            "text/plain": [
              "<Figure size 1500x500 with 2 Axes>"
            ]
          },
          "metadata": {},
          "output_type": "display_data"
        }
      ],
      "source": [
        "# Sample and visualize here\n",
        "\n",
        "fig,axs=plt.subplots(1,2,figsize=(15,5))\n",
        "samples=np.random.normal(0,1,50000)\n",
        "axs[0].hist(samples,bins=100,density=True)\n",
        "axs[0].set_title('Normal Distribution')\n",
        "\n",
        "\n",
        "samples=np.random.normal(2,10,50000)\n",
        "axs[1].hist(samples,bins=100,density=True,color='orange')\n",
        "axs[1].set_title('Normal Distribution')\n",
        "plt.show()\n",
        "\n"
      ]
    },
    {
      "cell_type": "markdown",
      "metadata": {
        "id": "S7fVyQsCAujB"
      },
      "source": [
        "*Which parameter values did you use in the two plots?*\n",
        "\n",
        "*Answer here*\n",
        "\n",
        "---"
      ]
    },
    {
      "cell_type": "markdown",
      "metadata": {
        "id": "zOmfDFhICfmG"
      },
      "source": [
        "### **Poisson distribution**\n",
        "$q(x) = \\text{Poisson}(x|\\lambda)$\n",
        "\n",
        "\n"
      ]
    },
    {
      "cell_type": "markdown",
      "metadata": {
        "id": "be53S1ipCfmG"
      },
      "source": [
        "---\n",
        "\n",
        "\n",
        "1. What is the support of q(x)?\n",
        "\n",
        "*Answer here*\n",
        "\n",
        "2. Is q(x) continuous or discrete?\n",
        "\n",
        "*Answer here*\n",
        "\n",
        "3. Sample from q(x) and visualize the distribution of the samples in the cell below for *two* parameter settings."
      ]
    },
    {
      "cell_type": "code",
      "execution_count": 4,
      "metadata": {
        "id": "WW4Ezr4_CfmG"
      },
      "outputs": [
        {
          "data": {
            "image/png": "[encoded data removed]",
            "text/plain": [
              "<Figure size 1500x500 with 2 Axes>"
            ]
          },
          "metadata": {},
          "output_type": "display_data"
        }
      ],
      "source": [
        "# Sample and visualize here\n",
        "fig,axs=plt.subplots(1,2,figsize=(15,5))\n",
        "samples=np.random.poisson(5,50000)\n",
        "axs[0].hist(samples,bins=1000,density=True)\n",
        "axs[0].set_title('Lambda = 5')\n",
        "\n",
        "\n",
        "samples=np.random.poisson(10,50000)\n",
        "axs[1].hist(samples,bins=1000,density=True, color='orange')\n",
        "axs[1].set_title('Lambda = 10')\n",
        "plt.show()"
      ]
    },
    {
      "cell_type": "markdown",
      "metadata": {
        "id": "f_79eywMCfmR"
      },
      "source": [
        "*Which parameter value did you use?*\n",
        "\n",
        "*Answer here*\n",
        "\n",
        "---"
      ]
    },
    {
      "cell_type": "markdown",
      "metadata": {
        "id": "JKtHYgXZDBMb"
      },
      "source": [
        "### **Exponential distribution**\n",
        "$q(x) = \\text{Exp}(x|\\lambda)$\n",
        "\n",
        "\n"
      ]
    },
    {
      "cell_type": "markdown",
      "metadata": {
        "id": "K7YKIpVxDBMo"
      },
      "source": [
        "---\n",
        "\n",
        "\n",
        "1. What is the support of q(x)?\n",
        "\n",
        "*Answer here*\n",
        "\n",
        "2. Is q(x) continuous or discrete?\n",
        "\n",
        "*Answer here*\n",
        "\n",
        "3. Sample from q(x) and visualize the distribution of the samples in the cell below  for *two* parameter settings."
      ]
    },
    {
      "cell_type": "code",
      "execution_count": null,
      "metadata": {
        "id": "1BSpGHkJDBMo"
      },
      "outputs": [],
      "source": [
        "# Sample and visualize here"
      ]
    },
    {
      "cell_type": "markdown",
      "metadata": {
        "id": "9fPDYJbiDBMo"
      },
      "source": [
        "*Which parameter value did you use?*\n",
        "\n",
        "*Answer here*\n",
        "\n",
        "---"
      ]
    },
    {
      "cell_type": "markdown",
      "metadata": {
        "id": "TmRkOhn8DZXf"
      },
      "source": [
        "### **Beta distribution**\n",
        "$q(x) = \\text{Beta}(x|\\alpha, \\beta)$\n",
        "\n",
        "\n"
      ]
    },
    {
      "cell_type": "markdown",
      "metadata": {
        "id": "OUdTYsjyDZXg"
      },
      "source": [
        "---\n",
        "\n",
        "\n",
        "1. What is the support of q(x)?\n",
        "\n",
        "*Answer here*\n",
        "\n",
        "2. Is q(x) continuous or discrete?\n",
        "\n",
        "*Answer here*\n",
        "\n",
        "3. Sample from q(x) and visualize the distribution of the samples in the cell below for *two* parameter settings."
      ]
    },
    {
      "cell_type": "code",
      "execution_count": 5,
      "metadata": {
        "id": "zUbLwrcyDZXg"
      },
      "outputs": [
        {
          "data": {
            "image/png": "[encoded data removed]",
            "text/plain": [
              "<Figure size 1500x500 with 2 Axes>"
            ]
          },
          "metadata": {},
          "output_type": "display_data"
        }
      ],
      "source": [
        "# Sample and visualize here\n",
        "\n",
        "fig,axs=plt.subplots(1,2,figsize=(15,5))\n",
        "samples=np.random.beta(1,10,50000)\n",
        "axs[0].hist(samples,bins=100,density=True)\n",
        "axs[0].set_title('Beta Distribution, a=1, b=10')\n",
        "\n",
        "\n",
        "samples=np.random.beta(12,2,50000)\n",
        "axs[1].hist(samples,bins=100,density=True,color='orange')\n",
        "axs[1].set_title('Normal Distribution, a=12, b=2')\n",
        "plt.show()"
      ]
    },
    {
      "cell_type": "markdown",
      "metadata": {
        "id": "Dc_odH_JDZXh"
      },
      "source": [
        "*Which parameter values did you use?*\n",
        "\n",
        "*Answer here*\n",
        "\n",
        "---"
      ]
    },
    {
      "cell_type": "markdown",
      "metadata": {
        "id": "bw4HlQRRDkNo"
      },
      "source": [
        "### **Gamma distribution**\n",
        "$q(x) = \\text{Gamma}(x|\\alpha, \\beta)$\n",
        "\n",
        "\n"
      ]
    },
    {
      "cell_type": "markdown",
      "metadata": {
        "id": "4zXh5GRIDkNp"
      },
      "source": [
        "---\n",
        "\n",
        "\n",
        "1. What is the support of q(x)?\n",
        "\n",
        "*Answer here*\n",
        "\n",
        "2. Is q(x) continuous or discrete?\n",
        "\n",
        "*Answer here*\n",
        "\n",
        "3. Sample from q(x) and visualize the distribution of the samples in the cell below for *two* parameter settings."
      ]
    },
    {
      "cell_type": "code",
      "execution_count": null,
      "metadata": {
        "id": "cPHihPp9DkNp"
      },
      "outputs": [],
      "source": [
        "# Sample and visualize here"
      ]
    },
    {
      "cell_type": "markdown",
      "metadata": {
        "id": "VoKtv7fLDkNp"
      },
      "source": [
        "*Which parameter values did you use?*\n",
        "\n",
        "*Answer here*\n",
        "\n",
        "---"
      ]
    },
    {
      "cell_type": "markdown",
      "metadata": {
        "id": "MERzkvS1Drmd"
      },
      "source": [
        "### **Dirichlet distribution**\n",
        "$q(x) = \\text{Dirichlet}(x_1, x_2, x_3|\\alpha_1, \\alpha_2, \\alpha_3)$\n",
        "\n",
        "**Important note**: the Dirichlet distribution is best visualized using a *simplex*, or a historgram with a *single* sample. See Fig. 2.14 or 2.15 in [Murphy's book](http://noiselab.ucsd.edu/ECE228/Murphy_Machine_Learning.pdf), respectively, for visualization examples.\n"
      ]
    },
    {
      "cell_type": "markdown",
      "metadata": {
        "id": "oXufF17WDrme"
      },
      "source": [
        "---\n",
        "\n",
        "\n",
        "1. What is the support of q(x)?\n",
        "\n",
        "*Answer here*\n",
        "\n",
        "2. Is q(x) continuous or discrete?\n",
        "\n",
        "*Answer here*\n",
        "\n",
        "3. Sample from q(x) and visualize the distribution of the samples in the cell below. Either using a simplex or a histogram with a single sample for *two* parameter settings."
      ]
    },
    {
      "cell_type": "code",
      "execution_count": null,
      "metadata": {
        "id": "NzAV9-MWDrme"
      },
      "outputs": [],
      "source": [
        "# Sample and visualize here"
      ]
    },
    {
      "cell_type": "markdown",
      "metadata": {
        "id": "5A6nAhGCDrme"
      },
      "source": [
        "*Which parameter values did you use?*\n",
        "\n",
        "*Answer here*\n",
        "\n",
        "---"
      ]
    },
    {
      "cell_type": "markdown",
      "metadata": {
        "id": "MHwBBypIDTpd"
      },
      "source": [
        "### **Categorical distribution**\n",
        "$q(x) = \\text{Categorical}(x|p_1, p_2, p_3)$\n",
        "\n",
        "\n"
      ]
    },
    {
      "cell_type": "markdown",
      "metadata": {
        "id": "vvbB3e_CDTpl"
      },
      "source": [
        "---\n",
        "\n",
        "\n",
        "1. What is the support of q(x)?\n",
        "\n",
        "*Answer here*\n",
        "\n",
        "2. Is q(x) continuous or discrete?)\n",
        "\n",
        "*Answer here*\n",
        "\n",
        "3. Sample from q(x) and visualize the distribution of the samples in the cell below for *two* parameter settings."
      ]
    },
    {
      "cell_type": "code",
      "execution_count": null,
      "metadata": {
        "id": "PggFvEp2DTpl"
      },
      "outputs": [],
      "source": [
        "# Sample and visualize here"
      ]
    },
    {
      "cell_type": "markdown",
      "metadata": {
        "id": "Ln4mxU6QDTpl"
      },
      "source": [
        "*Which parameter values did you use?*\n",
        "\n",
        "*Answer here*\n",
        "\n",
        "---"
      ]
    },
    {
      "cell_type": "markdown",
      "metadata": {
        "id": "T8_dSSbPBSjB"
      },
      "source": [
        "## 1.2 What if you are interested in a distribution which is not covered in the standard programming libraries?\n",
        "\n",
        "Let $p(x)$ be a non-standard and unnormalized distribution, say\n",
        "\n",
        "$p(x) = e^{-\\alpha x} e^{-\\lambda x}$, $x \\geq 0$\n",
        "\n",
        "then how can we sample from it? Although it is not a complex distribution, it is not available in `numpy` nor `sklearn`.\n",
        "\n",
        "We can resolve the dilemma via a clever trick using the cumulative density function (CDF) and the uniform distribution, $\\mathcal{U}([0,1])$. But first, you will need to normalize $p(x)$.\n",
        "\n",
        "Read the instructions in Murphy (ch. 23.2.1) to sample from the normalized $p(x)$. Use $\\alpha=0.5$ and $\\lambda=1.0$ and visualize the samples below in the same manner as you have done above (but for a single parameter setting, obviously). Also, include your derivation in the text cell below.\n",
        "\n",
        "**Hint:** to normalize a distribution, you need to compute the normalizing constant $$C=\\int_{\\mathbb{R}} p(x) dx,$$\n",
        "such that\n",
        "$$\\int_{\\mathbb{R}} p(x) / C dx = 1.$$"
      ]
    },
    {
      "cell_type": "markdown",
      "metadata": {
        "id": "w37iC0v7JKUO"
      },
      "source": [
        "*Put derivations here*"
      ]
    },
    {
      "cell_type": "code",
      "execution_count": null,
      "metadata": {
        "id": "mRFI9ff7JOiu"
      },
      "outputs": [],
      "source": [
        "# code to sample from and visualize p(x) here"
      ]
    },
    {
      "cell_type": "markdown",
      "metadata": {
        "id": "nOJCovu4250s"
      },
      "source": [
        "# ***2. Simple Density Estimation***"
      ]
    },
    {
      "cell_type": "markdown",
      "metadata": {
        "id": "sM384t_HsU0k"
      },
      "source": [
        "In the literature empirical distributions are often assumed to be approximately Gaussian/Normal for plenty of (often good) reasons. The central limit theorem tells us that this is an appropriate assumption for large amounts of data (under mild conditions), and, furthermore, the Normal distribution is very well-studied.\n",
        "\n",
        "But, of course, assuming normality is far from the best idea in a lot of cases. In this section we will do analysis on a non-Gaussian and non-standard distribution. Assuming we are constrained to choose one of the common distributions in the list of distributions above, which distribution is the best match to the non-standard one? How can we motivate this choice? This is a simple form of density estimation -- the first practical encounter of it in this course."
      ]
    },
    {
      "cell_type": "markdown",
      "metadata": {
        "id": "_ieAt4Vh7GcH"
      },
      "source": [
        "## 2.1 Analyze $p(x)$\n",
        "\n",
        "Use `np.load` to load the distribution, $p(x)$, provided in `ass1_dist.npy`.\n",
        "\n",
        "Visualize $p(x)$ using a histogram starting with `bins=1000`. Then, play around with the number of bins in order to be able to answer the two following questions:\n",
        "\n",
        "1.   What is a reasonable assumption regarding the support of $p(x)$. Motivate.\n",
        "\n",
        "*Answer here*\n",
        "\n",
        "2.   Do you think $p(x)$ is best described by a continuous or discrete pdf based on the visualized samples? Explain your thinking.\n",
        "\n",
        "*Answer here*\n",
        "\n"
      ]
    },
    {
      "cell_type": "markdown",
      "metadata": {
        "id": "FbdX6VnLVrOU"
      },
      "source": [
        "## 2.2. Fit $q(x)$ to $p(x)$\n",
        "\n",
        "Now, based on your conclusions in 2.1 (support and contiuous or discrete pdf), and given the set of distributions itemized in section 1.1, choose three $q(x)$ and match them to $p(x)$. For each of your three choices, match them by\n",
        "\n",
        "\n",
        "1.   visualizing both $p(x)$ and $q(x)$ in the same histogram.\n",
        "2.   using ``` scipy.stats``` to compute the log-likelihood of the data (the samples from $p(x)$) for $q(x)$. Maximize the log-likelihoods of the data for your choice of $q(x)$ by **manually** tuning and reporting its parameters.\n",
        "\n"
      ]
    },
    {
      "cell_type": "markdown",
      "metadata": {
        "id": "ssnXnvPu21JX"
      },
      "source": [
        "# ***3. Paper and pen exercises***\n",
        "\n",
        "***Before starting with the pen and paper exercise, note that you are asked to submit your solutions for 3.1, 3.2 and 3.3 using LaTeX. Download the LaTeX file (the pdf) and submit it to Canvas together with the a pdf version of this notebook.***\n",
        "\n",
        "Here you are tasked with solving three pen and paper exercises. The two first exercises concern exact marginal likelihood inference, and aim to highlight that, indeed, there are cases where exact inference is acheivable. In these exercises, the marginal likelihoods are discrete and computed using enumeration, i.e., enumerating and summing over all possible outcomes. However, as you can imagine, enumeration is possible in far from all settings. In fact, we are often interested computing marginal likelihoods which requiring marginalization over extremely many, or even infinitely many, dimensions/outcomes.  We will see how to handle these cases later in the course.\n",
        "\n",
        "\n",
        "Finally, in the last exercise, you are asked to compute the posterior predictive distribution. An important technique for doing Bayesian model averaging."
      ]
    },
    {
      "cell_type": "markdown",
      "metadata": {
        "id": "duVN63nobCMf"
      },
      "source": [
        "## 3.1 Deriving the Log-Normal pdf using the transformation theorem\n",
        "Using the Gaussian pdf, $p(x) = \\mathcal{N}(x|\\mu, \\sigma^2)$, as base distribution and the exponential function as your bijective mapping, derive the Log-Normal pdf using the transformation theorem.\n",
        "\n",
        "See the slides from lecture 2 for more details. Explain and motivate the result."
      ]
    },
    {
      "cell_type": "markdown",
      "metadata": {
        "id": "T6vkJF8c8Lc7"
      },
      "source": [
        "## 3.2 Exact marginal likelihood inference (Burglars and earthquakes)\n",
        "(After Pearl, 1988) You live in a seismologically instable region and are commuting to work every day. One day your neighbor calls you whilst on your way home to let you know that your burglar alarm is ringing. Since you always parse the world through the lens of probability theory, the first question that pops into your head is, of course: **what's the probability that there's actually been a burglary in my home?** Interrupted in your Bayesian thoughts, you hear the radio saying that there's been an earthquake in the region. Aha, we are now dealing with a conditional probabilty! **Could the alarm have been triggered by the earthquake?**\n",
        "\n",
        "\n",
        "You repeat the events and assign them variables: $a$ (the burglar alarm is ringing), $e$ (there's been an earthquake), $b$ (there's been a burglar in your home), $c$ (you received a phone call from you nehighbor), and $r$ (you heard the radio informing about the earthquake). The joint probabilty of these variables can be written and factorized as follows (using some independance assumptions)\n",
        "\n",
        "$p(a, b, e, c, r) =  p(b) \\; p(e) \\; p(a|b, e) \\; p(r|e) \\; p(c|a)$.\n",
        "\n",
        "In terms of the introduced variables, we are interested in calculating the probability $p(b|e=1, a=1)$.\n",
        "\n",
        "Next you assign reasonable values to these probabilities based on region-specific statistics you have come across. Apparently, there's an earthquake in the region every third year, giving\n",
        "\n",
        "$p(e=1) = \\epsilon = $ *fill in value*,\n",
        "\n",
        "and there's a burglary every second year\n",
        "\n",
        "$p(b=1) = \\beta = $ *fill in value*.\n",
        "\n",
        "Also, you know that the recall of the alarm is $\\alpha_b = 0.99$. That is, when burglars break in to your home, the alarm rings in 99% of the cases. You estimate that $1/100$ of all alarms are triggered by earthquakes, $\\alpha_e = 0.01$, and that the alarm rings for some other unknown reason with probability $1/1000$, $f=0.001$. You conclude that these are the only reasons that the alarm could possibly ring.\n",
        "\n",
        "*List all possible values for $p(a|b, e)$, i.e. $p(a=1|b=1, a=1)$ etc.*\n",
        "\n",
        "Proceed by assuming that your neighbor would never call you unless the alarm was ringing, and that the news reporter on the radio is fully reliable. Then, derive the posterior distribution $p(b, e|a=1)$ using Bayes' theorem.\n",
        "\n",
        "Finally we are able to answer our question: given all you know, what is the probability that there is a burglar in your home? *Compute $p(b=1|e=1,a=1)$. Importantly, clearly state when you use Bayes' theorem (rule), and when you use the law of total probability. I.e., wright it out explicitly.*\n",
        "\n",
        "Comment: the point of this exercise it to demonstrate that computing the marginal likelihood is tedious–even when there are only a few binary variables. More complicated settings will make the computation of the marginal likelihood intractable, and so we will need the techniques that we will discuss later in the course.\n"
      ]
    },
    {
      "cell_type": "markdown",
      "metadata": {
        "id": "DiZRUhJIa2W8"
      },
      "source": [
        "## 3.3 Posterior Predictive\n",
        "(Murphy, exercise 3.14) *Posterior predictive for Dirichlet-multinomial*\n",
        "\n",
        "(i) Suppose we compute the empirical distribution over letters of the Roman alphabet plus the\n",
        "space character (a distribution over 27 values) from 2000 samples. Suppose we see the\n",
        "letter ”e” 260 times. What is $p(x_{2001}=e|D)$, if we assume $\\theta \\sim Dir(\\alpha_1,..., \\alpha_{27})$, where $\\alpha_k = 10$ for all $k$?\n",
        "\n",
        "(ii) Suppose, in the 2000 samples, we saw ”e” 260 times, ”a” 100 times, and ”p” 87 times. What is $p(x_{2001}=e, x_{2002}=a|D)$, if we assume $\\theta \\sim Dir(\\alpha_1,..., \\alpha_{27})$, where $\\alpha_k = 10$ for all $k$? Show your work."
      ]
    },
    {
      "cell_type": "markdown",
      "metadata": {
        "id": "dM_IzpFlEI3O"
      },
      "source": [
        "# ***4. Monte Carlo Simulation***\n",
        "Monte Carlo methods is a very useful class of inference methods for sampling-based approximations. This course largely focuses on Monte Carlo methods for approximating unknown and/or intractable functions/distributions. In this assignment we study some of the building blocks of Monte Carlo methods: the effect of law of large numbers, Monte Carlo sampling for approximating a function, and importance sampling.\n",
        "\n"
      ]
    },
    {
      "cell_type": "markdown",
      "metadata": {
        "id": "UjVuXnqxvEPA"
      },
      "source": [
        "## 4.1 Approximate the mean of a LogNormal distribution using the Law of Large Numbers\n",
        "The LogNormal is a very important distribution, which can be used to model the distribution of quantities such as time, the values of purchases, or distances.\n",
        "\n",
        "Here we assume that we are sequentially obtaining data that we believe are coming from a LogNormal distribution. Eventually, we will receive a sufficient amount of data to accurately approximate the true mean of the LogNormal distribution. This follows from the Law of Large Numbers:\n",
        "\n",
        "Let, $$a = \\mathbb{E}_{p(x)}[g(x)]$$ and $$\\hat{a}_n = \\frac{1}{n}\\sum_{i=1}^nx_i,$$ where $x_i\\sim p(x)$, then $$\\lim_{n→\\infty}\\hat{a}_n = a.$$ Meanwhile, for all finite (natural) numbers of $n$, we say that $$\\hat{a}_n\\approx a,$$ or, in words, $\\hat{a}_n$ is a Monte Carlo estimate of $a$."
      ]
    },
    {
      "cell_type": "markdown",
      "metadata": {
        "id": "6qpx34J9JOPd"
      },
      "source": [
        "To sample from a LogNormal, use the following scheme.\n",
        "\n",
        "Let $$z_i \\sim \\mathcal{N}(\\mu, \\sigma^2),$$ and set $$x_i = \\exp(z_i).$$ This is equivalent to sampling $x_i$ from $\\log\\mathcal{N}(\\mu, \\sigma^2)$."
      ]
    },
    {
      "cell_type": "markdown",
      "metadata": {
        "id": "ETH7am6IVvGD"
      },
      "source": [
        "### 4.1.1\n",
        "\n",
        "Let $\\mu = 1$ and $\\sigma^2 = 5$, and set $p(x|\\mu, \\sigma^2) = \\log\\mathcal{N}(\\mu, \\sigma^2)$. Compute the mean of the LogNormal distribution in the cell below. This should be done using the expression for the mean of the LogNormal (i.e., do not approximate it). *Hint: it's not equal to $\\mu$*."
      ]
    },
    {
      "cell_type": "markdown",
      "metadata": {
        "id": "qptd9M8auMKx"
      },
      "source": [
        "$m = \\mathbb{E}_{p(x|\\mu, \\sigma^2)}[x] =$ *Answer here*"
      ]
    },
    {
      "cell_type": "markdown",
      "metadata": {
        "id": "NdFUrA1kyVPX"
      },
      "source": [
        "### 4.1.2\n",
        "Use the provided plotting function to plot how the Monte Carlo approximation improves with more data.\n",
        "\n",
        "First you will need to sample $n=100,000$ samples from $p(x|\\mu, \\sigma^2)$ using numpy and the scheme provided above. Observe that when sampling from a normal distribution in numpy, the second argument is the standard deviation not the variance."
      ]
    },
    {
      "cell_type": "code",
      "execution_count": null,
      "metadata": {
        "id": "QgU16OEXwCkh"
      },
      "outputs": [],
      "source": [
        "import matplotlib.pyplot as plt\n",
        "import numpy as np\n",
        "\n",
        "\n",
        "def plot_means(m, data):\n",
        "    # data should be an n long array\n",
        "    n = len(data)\n",
        "    sequential_estimates = []\n",
        "    for i in range(1, n + 1):\n",
        "        m_hat_i =  # compute the monte carlo approximation of m using only\n",
        "        # the data points x_1,..., x_i\n",
        "        sequential_estimates.append(m_hat_i)\n",
        "    plt.plot(sequential_estimates, label=r'$\\hat{m}_i$')\n",
        "    plt.axhline(m, 0, n, color='red', label='$m$')\n",
        "    plt.legend(loc='best')\n",
        "    plt.show()\n",
        "\n",
        "np.random.seed(0)  # don't change the seed\n",
        "# code the sampling scheme below here (it's important that you use the provided seed)"
      ]
    },
    {
      "cell_type": "markdown",
      "metadata": {
        "id": "ouM2YWSDzUmm"
      },
      "source": [
        "### 4.1.3\n",
        "Repeat the experiment above but now use $\\sigma^2 = 1$. Plot the approximations, and explain why the approximations converge with less data. Reflect on the limitation of the Law of Large Numbers here."
      ]
    },
    {
      "cell_type": "markdown",
      "metadata": {
        "id": "P9mWySJQzpX2"
      },
      "source": [
        "*Answer here*"
      ]
    },
    {
      "cell_type": "markdown",
      "metadata": {
        "id": "-VYR4S03WsWl"
      },
      "source": [
        "## 4.2 Approximating a function using Monte Carlo Approximation\n",
        "\n"
      ]
    },
    {
      "cell_type": "markdown",
      "metadata": {
        "id": "WU3nx7_G14cL"
      },
      "source": [
        "Say that there is a competition where people are rewarded for exiting a maze as fast as possible. The distribution of the time it takes for a competitor to exit the maze follows a LogNormal distribution with $\\mu=5$ and $\\sigma^2 = 1$.\n",
        "\n",
        "You design a prize function, rewarding competitors that make it out of the maze faster: $$g(x) = 1000\\exp(-x / 10).$$\n",
        "\n",
        "On average, what is the reward that the organizers will have to pay? Approximate the quantity using Monte Carlo approximation."
      ]
    },
    {
      "cell_type": "markdown",
      "metadata": {
        "id": "4CcqfBe6zI46"
      },
      "source": [
        "*Answer here*"
      ]
    },
    {
      "cell_type": "markdown",
      "metadata": {
        "id": "n3KZ0wd46KDk"
      },
      "source": [
        "The organizers have a budget of 10,000 SEK, and want as many competitors to participate as possible. They ask you to tell them what the maximum number of competitors, $C^*$, is, such that the budget is maintaned with 90% probability, i.e. $$\\mathbb{P}\\left(\\sum_{i=1}^{C} g(x_i) < 10000\\right) < 0.9.$$\n",
        "\n",
        "Demonstrate that your estimate is robust by including the standard deviation of your estimate.\n",
        "\n",
        "*Hint: Use the identity that $\\mathbb{P}(\\mathbb{1}_{\\{y < k\\}}(y)) = \\mathbb{E}_{p(y)}[y < k]$.*"
      ]
    },
    {
      "cell_type": "markdown",
      "metadata": {
        "id": "wHmewp-p6fGJ"
      },
      "source": [
        "*Answer here*"
      ]
    },
    {
      "cell_type": "markdown",
      "metadata": {
        "id": "Rc6iAJmLRJCn"
      },
      "source": [
        "## 4.3 Plot a disk using importance sampling\n",
        "In the lectures we covered importance sampling (IS) as an alternative to standard Monte Carlo sampling. IS is a simple and flexible solution when a distribution of interest is difficult, or impossible, to sample from.\n",
        "\n",
        "In this assignment, let $p(x)$ be a disk with all its probability density uniformly distributed on it. Let it have 0.5 radius, $r=0.5$, and be centered in (0, 0). It is not impossible to sample from $p(x)$ directly–it would most likely require the transformation theorem or another trick.\n",
        "\n",
        "Instead of sampling from $p(x)$ directly, we can easily sample from a Normal distribution. Let the proposal distribution, $q(x)$, be a Normal distribution with $\\mu=(0,0)^T$ and $\\Sigma=\\begin{pmatrix}0.5 & 0\\\\0 & 0.5\\end{pmatrix}$. Samples drawn from a proposal distribution in IS are called *importance samples*.\n",
        "\n",
        "Assignment:\n",
        "\n",
        "1.  Model the target pdf, $p(x)$. You can use an indicator function. Be clear about what the corresponding \"indicator\" set is.\n",
        "\n",
        "2.  Draw 20k importance samples from $q(x)$ and compute the corresponding *importance weights*, using $p(x)$ as the target distribution.\n",
        "\n",
        "3.  Plot the importance samples in a scatter plot, using the corresponding importance weights as colors for the different points. The result should be a non-uniform distribution over the disk. Why is it non-uniform? Explain the distribution of importance weights.\n",
        "\n",
        "4. How can you change the parameters in $q(x)$ in order to make the distribution of importance weights more uniform over the disk?"
      ]
    },
    {
      "cell_type": "markdown",
      "metadata": {
        "id": "V5mK0StwPWj-"
      },
      "source": [
        "*Express the resulting likelihood function from 1 here.*"
      ]
    },
    {
      "cell_type": "code",
      "execution_count": null,
      "metadata": {
        "id": "HksEp0SCP641"
      },
      "outputs": [],
      "source": [
        "# compute the importance weights and plot the colored points here"
      ]
    },
    {
      "cell_type": "markdown",
      "metadata": {
        "id": "qEJjbAL7P21R"
      },
      "source": [
        "*Answer the questions in 3 here.*"
      ]
    },
    {
      "cell_type": "markdown",
      "metadata": {
        "id": "Yz4XeFKoQwJx"
      },
      "source": [
        "*Answer question 4 here.*"
      ]
    }
  ],
  "metadata": {
    "colab": {
      "provenance": [],
      "toc_visible": true
    },
    "kernelspec": {
      "display_name": "Python 3",
      "name": "python3"
    },
    "language_info": {
      "codemirror_mode": {
        "name": "ipython",
        "version": 3
      },
      "file_extension": ".py",
      "mimetype": "text/x-python",
      "name": "python",
      "nbconvert_exporter": "python",
      "pygments_lexer": "ipython3",
      "version": "3.12.0"
    }
  },
  "nbformat": 4,
  "nbformat_minor": 0
}
