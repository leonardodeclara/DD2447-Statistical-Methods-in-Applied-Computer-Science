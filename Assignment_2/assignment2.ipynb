{
  "cells": [
    {
      "cell_type": "code",
      "execution_count": null,
      "metadata": {
        "id": "E9cX55RiefyZ"
      },
      "outputs": [],
      "source": [
        "import matplotlib.pyplot as plt\n",
        "import numpy as np"
      ]
    },
    {
      "cell_type": "markdown",
      "metadata": {
        "id": "7dT0k9iMN7Qz"
      },
      "source": [
        "# ***Assignment 2***\n",
        "Welcome to Assignment 2! In this assignment you are allowed to work ***individually or in pairs***. It is worth 30 points in total. Exercises 1 is worth 5 points, exercise 2 is worth 10 points, and 3 can give you 15 points.\n",
        "\n",
        "There is a 5 point minimum for passing this assignment (you need to pass all four assignments to be able to pass the course).\n",
        "\n",
        "Submission details: Your submission should contain two pdf's.\n",
        "\n",
        "1. A pdf version of your filled out colaboratory on Canvas. You can do this by pressing `cmd/ctrl+p` (you know the drill from there).  \n",
        "2. For exercise 1, you need to hand in your hand-written solutions in a LaTeX pdf. We only accept solutions written in LaTeX, i.e. not Word or any other text editor. We recommend [Overleaf](https://overleaf.com), if you do not already have a favourite LaTeX editor (which is also [provided by KTH](https://intra.kth.se/en/it/programvara-o-system/programvara/installera/download/overleaf/overleaf-1.932755))."
      ]
    },
    {
      "cell_type": "markdown",
      "metadata": {
        "id": "Jp9dXr2ULwzZ"
      },
      "source": [
        "# Contents\n",
        "In this assignment we will experiment with the following topics (not necessarily in this order):\n",
        "* Conjugate priors\n",
        "* Gibbs sampling\n",
        "* Metropolis-Hastings\n",
        "* Convergence diagnostics\n",
        "* Probabilistic modelling\n",
        "* Bayesian decision theory\n",
        "* The Predictive posterior distribution"
      ]
    },
    {
      "cell_type": "markdown",
      "metadata": {
        "id": "vrXaIaQZQTky"
      },
      "source": [
        "# ***1. Conjugate Priors***\n",
        "\n",
        "Conjugate distributions are very important and widely used distributions in Bayesian statistics. Having a closed-form expression for the posterior distribution provides great convenience.\n",
        "\n",
        "It is important to feel confident with derivations and being able to find closed-form expressions. For this task, we give you well-known likelihood functions & prior distributions and ask you to *derive* the closed form expressions of the posterior distributions.\n",
        "\n",
        "For this exercise, you need to hand in your hand-written solutions in a LaTeX pdf. We only accept solutions written in LaTeX.\n",
        "\n",
        "**Q1.1 There are $N$ i.i.d. data points sampled from a Normal distribution; $\\mathcal{N}(x_i | \\mu, \\sigma^2)$ for $i \\in[N]$ where $\\mu$ is the mean and $\\sigma^2$ is the variance. Assume $\\sigma^2$ is known and the mean has the Normal prior distribution $\\mathcal{N}(\\mu | \\mu_0, \\sigma_0^2)$. \n",
        "Show the posterior distribution of mean is \n",
        "\\begin{align*}\n",
        "\\mathcal{N} \\left( \\mu \\;|\\; \\frac{\\sigma^2_0 N}{\\sigma^2+N\\sigma^2_0}\\bar{x} +   \\frac{\\sigma^2}{\\sigma^2+N\\sigma^2_0}\\mu_0, \\; \\left( \\frac{1}{\\sigma_0^2}+\\frac{N}{\\sigma^2}\\right) ^{-1} \\right) \\\\\n",
        "\\end{align*} \n",
        "where $\\bar{x}$ is the sample mean.**\n",
        "\n",
        "**Q1.2 There are $N$ i.i.d. data points sampled from a Normal distribution; $\\mathcal{N}(x_i | \\mu, \\sigma^2)$ for $i \\in[N]$ where $\\mu$ is the mean and $\\sigma^2$ is the variance. Assume $\\mu$ is known and the variance has the Inverse-Gamma prior distribution $\\mathcal{IG}(\\sigma^2 | \\alpha, \\beta)$. Show the posterior distribution of variance is\n",
        "\\begin{align*}\n",
        "\\mathcal{IG}\\left( \\sigma^2 \\;|\\; \\alpha + \\frac{N}{2}, \\; \\beta+\\frac{1}{2}\\sum_{i=1}^N (x_i - \\mu)^2 \\right)\n",
        "\\end{align*}\n",
        ".**\n",
        "\n",
        "**Q1.3 There are $N$ i.i.d. data points sampled from a Normal distribution; $\\mathcal{N}(x_i | \\mu, \\tau^{-1})$ for $i \\in[N]$ where $\\mu$ is the mean and $\\tau=1/\\sigma^2$ is the precision. Assume $\\mu$ has the Normal prior $\\mathcal{N}(\\mu | \\mu_0, (n_0 \\tau)^{-1})$ and the precision has the Gamma prior distribution $Ga(\\tau | \\alpha, \\beta)$. \n",
        "Show the posterior distributions of mean and precision are\n",
        "\\begin{align*}\n",
        "&\\mathcal{N}\\left( \\mu \\;|\\; \\frac{N}{N+n_0}\\bar{x} +\\frac{n_0}{N+n_0}\\mu_0, \\; (N\\tau+n_0\\tau)^{-1} \\right)\\\\\n",
        "&Ga\\left(\\tau \\;|\\; \\alpha + \\frac{N}{2}, \\; \\beta+\\frac{1}{2}\\sum_{i=1}^N (x_i - \\bar{x})^2 + \\frac{N n_0}{2(N+n_0)}(\\bar{x}-\\mu_0)^2 \\right)\n",
        "\\end{align*} \n",
        "where $\\bar{x}$ is the sample mean.**\n"
      ]
    },
    {
      "cell_type": "markdown",
      "metadata": {
        "id": "ryXnXeUnhsC_"
      },
      "source": [
        "# ***2. The Two-Dimensional Gaussian***\n",
        "\n",
        "Consider the following posterior, $$p(\\theta|x) = \\mathcal{N}\\left(\\theta|x, \\Sigma\\right),$$ where $\\theta=(\\mu_1, \\mu_2)$ are the unknown means of the Gaussian distribution that generated $x = (x_1, x_2)$, i.e. $$x \\sim \\mathcal{N}(x| \\theta, \\Sigma).$$ Furthermore, the covariance matrix is known, $$\\Sigma = \\left(\\begin{matrix} 1 & 0.8 \\\\0.8 & 1 \\end{matrix}\\right),$$ and the prior on $\\theta$ is uniform.\n",
        "\n",
        "\n",
        "\n"
      ]
    },
    {
      "cell_type": "markdown",
      "metadata": {
        "id": "9dRKQ8z9lBTt"
      },
      "source": [
        "**Q2.1 Use Bayes' rule to derive the considered posterior, given what you know above. That is, clearly specify the joint distribution, the likelihood function, the prior distribution and the marginal likelihood, and then show that $p(\\theta|x) = \\mathcal{N}(\\theta|x, \\Sigma)$.**"
      ]
    },
    {
      "cell_type": "markdown",
      "metadata": {
        "id": "oo6AN-Wsp9Q1"
      },
      "source": [
        "*Answer here*"
      ]
    },
    {
      "cell_type": "markdown",
      "metadata": {
        "id": "sgLWtf_Bp5Sb"
      },
      "source": [
        "Although this problem is not intractable, we are now going to use MCMC to sample from the posterior. We will assume that $x = (0, 0)$.\n",
        "\n",
        "Before we start using MCMC, let's utilize that we know the posterior distribution by sampling from it directly."
      ]
    },
    {
      "cell_type": "markdown",
      "metadata": {
        "id": "g8ipbLjusjLc"
      },
      "source": [
        "**Q2.2 Sample 10000 values of $\\theta$ from $p(\\theta|x)$. Visualize the samples in a scatter plot.**"
      ]
    },
    {
      "cell_type": "markdown",
      "metadata": {
        "id": "GkmSJkqfuBBk"
      },
      "source": [
        "Now we shall generate and compare samples from two MCMC algorithms, specifically the Metropolis-Hastings (MH) algorithm and Gibbs sampling. Recall that in MCMC algorithms we are evaluating our Markov chain samples using the joint distribution, and not the posterior."
      ]
    },
    {
      "cell_type": "markdown",
      "metadata": {
        "id": "NhUEuV_Et66D"
      },
      "source": [
        "**Q2.3 Let the proposal distribution $q(\\theta'|\\theta^{t})$ be a Gaussian with $\\sigma^2$ variance. Write an MH algorithm that samples 10k points from $p(\\theta|x)$, and scatter plot the samples.**\n",
        "\n",
        "**Tune $\\sigma^2$ so that the MH samples are similar to those generated in Q2.1, and report $\\sigma^2$.**"
      ]
    },
    {
      "cell_type": "markdown",
      "metadata": {
        "id": "5Wi7lD2KxVfn"
      },
      "source": [
        "**Q2.4 Derive the conditionals $p(\\theta_1|\\theta_2^{t}, x)$ and $p(\\theta_2|\\theta_1^{t}, x)$.**\n",
        "\n",
        "**Write a Gibbs sampler which you then use in order to generate 10k samples from $p(\\theta|x)$. Scatter plot the results.**"
      ]
    },
    {
      "cell_type": "markdown",
      "metadata": {
        "id": "BAdXpYC8IuTw"
      },
      "source": [
        "# ***3. The Bayesian Burglars***\n",
        "\n",
        "In this assignment we will act as burglars who decide whether to break into a house or not using Bayesian decision theory.\n",
        "\n",
        "Let $C(x, h)$ be the cost of decision $x$ given the state, $h$. $x\\in\\{0, 1\\}$ is the decision to break in or not, and $h\\in\\{0,1\\}$ tells us if the house owners are home or not. The break-in would last during the time interval $Δt$ and we can not know $h$ during $Δt$ before taking a decision. In order to be data driven decision makers, we have collected $N$ data points, $\\mathcal{D}=\\{y_i, \\tau_i\\}_{i=1}^N$, where $y_i$ is a binary variable indicating if the home owners are home, and $\\tau_i$ is the time point of the observation.\n",
        "\n",
        "Based on our data, we seek to take a Bayesian approach to the problem. Namely, we want to compute the *Bayes risk* associated with breaking and entering *or not* breaking and entering during a given time slot $$\\mathcal{R}(Δt) = \\sum_{x=0}^1\\mathbb{E}_{p(h|Δt, \\mathcal{D})}\\left[ C(x, h)\\right],$$ where $$p(h|Δt, \\mathcal{D}) = \\int_0^1 p(h, \\theta|Δt, \\mathcal{D}) d\\theta = \\int_0^1 p(h|\\theta)p(\\theta|Δt, \\mathcal{D}) d\\theta,$$ is the predictive posterior distribution, and $\\theta$ is the probability that the house owners are home.\n",
        "\n",
        "***Take a moment to appreciate how powerful the Bayes risk quantity is. Yes, here we are using it in a silly setting, but it is widely applicable to all sorts of advanced and simple problems where it makes sense to quantify the risk or expected gain.***\n",
        "\n",
        "Let's rewrite the risk expression in terms of the predictive posterior $$\\mathcal{R}(Δt) = \\sum_{x=0}^1\\mathbb{E}_{\\int p(h|\\theta) p(\\theta|Δt, \\mathcal{D})d\\theta}\\left[ C(x, h)\\right]$$ and write out the posterior over $\\theta$ using Bayes' rule $$p(\\theta|Δt, \\mathcal{D}) = \\frac{p(\\mathcal{D}|\\theta, \\Delta t)p(\\theta)p(Δt)}{p(\\mathcal{D}, Δt)}.$$\n",
        "Unfortunately, $p(\\theta|Δt, \\mathcal{D})$ is intractable as it involves the computation of a nasty marginal likelihood. However, we *do* know how to compute the joint distribution (the numerator), so we decide to solve the problem using a Metropolis-Hastings algorithm!\n",
        "\n",
        "To summarize the objective of the exercise, we want to compute the risk function above. To do this, we need to compute an expectation with respect to the intractable posterior predictive distribution. Instead, we can approximate the posterior predictive by sampling from the posterior over $\\theta$ via MH. Then, using the approximation of $p(h|Δt, \\mathcal{D})$, the risk function can be computed for both choices of $x$. The exercise is divided into a series of subproblems.\n",
        "\n",
        "****\n",
        "\n",
        "## **The distributions and functions in the generative model**\n",
        "\n",
        "**The likelihood function** is a conditional Bernoulli likelihood $$p(\\mathcal{D}|\\theta, \\Delta t) = \\prod_{i=1}^N \\theta^{\\mathbb{1}\\{(y_i = 1)\\wedge (\\tau_i \\in \\Delta t)\\}}(1-\\theta)^{\\mathbb{1}\\{(y_i = 0)\\wedge (\\tau_i \\in \\Delta t)\\}}(1/2)^{\\mathbb{1}\\{\\tau_i \\notin \\Delta t\\}},$$ where $\\wedge$ is the logical \"AND\" character.\n",
        "\n",
        "**The $\\theta$ prior** is a Beta distribution $$p(\\theta) = \\text{Beta}(\\theta|\\alpha, \\beta)$$ with hyperparams $\\alpha, \\beta$.\n",
        "\n",
        "**The $\\Delta t$ prior**, i.e. the prior belief of during which time slot it is appropriate to perform the break in, is unnormalized and factorisable $$p(\\Delta t) = p(t_u|t_l)p(t_l)$$ with $$p(t_l) = \\mathbb{1}\\{t_l\\in [0, 3600\\cdot24]\\}$$ and $$p(t_u|t_l) = \\mathbb{1}\\{t_u\\in [t_l + 3600, 3600\\cdot24]\\},$$ where $t_u$ denotes upper bound of the break-in time slot, and $t_l$ the lower bound. In other words, when the break in ends and starts. At shortest, the break in has to last one hour, $3600$ seconds, which is reflected in the trunctation using the lower bound in $p(t_u|t_l)$.\n",
        "\n",
        "****\n",
        "\n",
        "## **The proposal distributions in the MH algorithm**\n",
        "\n",
        "**The proposal for $\\theta$** is a mirrored uniform distribution with step size $\\epsilon$, conditioned on the previous state, $\\theta^{(k-1)}$.\n",
        "\n",
        "**The proposal for $t_l$** is a normal distribution with step size $\\sigma^2$, conditioned on the previous state value for $t_l$, $t_l^{(k-1)}$.\n",
        "\n",
        "**The proposal for $t_u$** is a truncated exponential distribution with CDF $$F(t_u|t_l, \\lambda) = 1 - e^{-\\lambda(t_u - U)},$$ and rate parameter $\\lambda.$ Here $U = 3600 + t_l$ is the size of the truncation, which ensures that proposed ending times for the break in occur at least $3600$ seconds after the proposed start of the break in, $t_l$.\n",
        "\n",
        "**Q3.1 In the following three subproblems, you will define and visualize the proposals**"
      ]
    },
    {
      "cell_type": "markdown",
      "metadata": {
        "id": "3ns1JYkC2AjX"
      },
      "source": [
        "**Q3.1.1.\n",
        "A mirrored (one-dimensional) uniform distribution only admits density in a specified interval, *mirroring back* whatever part of its support falls outside the interval back on to the interval. The density that falls outside the interval is superpositioned on top of the non-mirrored density.**\n",
        "\n",
        "**Using indicator functions, formulate the pdf $q(\\theta|\\theta^{(k-1)})$. Implement the distribution in numpy (you should be able to sample from it, and evaluate its likelihood). Show are you are able to sample from it by sampling 1000 samples and plotting them in a histogram. Use $\\theta^{(k-1)}=0.2$ and $\\epsilon = 0.3$ when sampling**."
      ]
    },
    {
      "cell_type": "markdown",
      "metadata": {
        "id": "JAKdr1ay59rD"
      },
      "source": [
        "**Q3.1.2 Formulate the pdf of $q(t_l|t_l^{(k-1)})$ with a variable $\\sigma^2$. You will need to choose a step size, $\\sigma^2$, before starting the experiment.**"
      ]
    },
    {
      "cell_type": "markdown",
      "metadata": {
        "id": "baCZwR3677KA"
      },
      "source": [
        "**Q3.1.3 Use the given CDF to formulate the pdf of the proposal distribution, $q(t_u|t_l)$. Sampling from this pdf is not directly supported in numpy. Use the inverse-sampling trick to sample 1000 samples from it as you let $t_l=0$. Visualize the histrogram of the samples with a plot.**"
      ]
    },
    {
      "cell_type": "markdown",
      "metadata": {
        "id": "epa8CVFn9gZe"
      },
      "source": [
        "****\n",
        "# **Generating data and implementing the algorithm**\n",
        "Next we need data. Use the following cell to generate the data and take a moment to reflect about the data-generating process. Beyond this cell, we will forget about the underlying data-generating process."
      ]
    },
    {
      "cell_type": "code",
      "execution_count": null,
      "metadata": {
        "colab": {
          "base_uri": "https://localhost:8080/",
          "height": 295
        },
        "id": "-8FM6YjC-o7j",
        "outputId": "88c04188-2a7b-4001-ddde-08b9a7b30972"
      },
      "outputs": [
        {
          "data": {
            "image/png": "[encoded data removed]",
            "text/plain": [
              "<Figure size 432x288 with 1 Axes>"
            ]
          },
          "metadata": {
            "needs_background": "light"
          },
          "output_type": "display_data"
        }
      ],
      "source": [
        "def generate_data(N=30):\n",
        "    # we more frequently go to collect data during the middle of the day\n",
        "    part_of_day = np.argmax(\n",
        "        np.random.multinomial(1, [1/4, 1/2, 1/4], N), axis=-1\n",
        "        )\n",
        "    time_intervals_low = np.array([0.0, 8 * 3600, 17 * 3600])\n",
        "    time_intervals_high = np.array([8 * 3600, 17 * 3600, 24 * 3600])\n",
        "\n",
        "    # after deciding which part of the day to go collect data,\n",
        "    # the exact time point is uniformly chosen\n",
        "    tau_i = np.random.uniform(low=time_intervals_low[part_of_day],\n",
        "                      high=time_intervals_high[part_of_day])\n",
        "\n",
        "    # probabilities that the owners are home or not depend on the part of the day\n",
        "    home_prob = np.array([0.9, 0.2, 0.7])\n",
        "\n",
        "    # randomly sample the event that the owners are home\n",
        "    u = np.random.uniform(0, 1, N)\n",
        "    y_i = (u < home_prob[part_of_day]).astype(float)\n",
        "\n",
        "    # the data is composed of N combinations of home-or-not events and time points\n",
        "    return y_i, tau_i\n",
        "\n",
        "\n",
        "# do not change the seed or the number of observations, N\n",
        "np.random.seed(0)\n",
        "D = generate_data(N=20)\n",
        "\n",
        "idx = np.argsort(D[1])\n",
        "plt.plot(D[1][idx] / 3600., D[0][idx], '*', label='home or not')\n",
        "plt.axvline(8, 0, 1, c='r', label='08.00')\n",
        "plt.axvline(17, 0, 1, c='g', label='17.00')\n",
        "plt.xlabel('Time (hours)')\n",
        "plt.ylabel('Home (yes/no)')\n",
        "plt.yticks([0, 1])\n",
        "plt.xticks(np.arange(25))\n",
        "plt.legend(loc='center left')\n",
        "plt.title('Distribution of the observations')\n",
        "plt.show()"
      ]
    },
    {
      "cell_type": "markdown",
      "metadata": {
        "id": "s8r88ThJRYbN"
      },
      "source": [
        "**Q3.2 Implement the MH algorithm. Run it until convergence, where you decide when the chains have convergenced. Motivate your convergence statement by using the convergence diagnostics discussed in the lectures. Convey your arguments with plots and numbers. A mandatory convergence diagnostic is to run and compare multiple chains.**\n",
        "\n",
        "**Before you are ready to implement the algorithm, you need to select the two step sizes, $\\epsilon$ and $σ^2$. Specify clearly your choices, and motivate them. There are no right or wrong choices, but better or worse alternatives. It is OK to revise your choices after evaluating the acceptance ratio of the MH algorithm, but here you should share your a priori beliefs.**\n",
        "\n",
        "**Finally, let $\\lambda=900$ and $\\alpha=\\beta=1$**"
      ]
    },
    {
      "cell_type": "markdown",
      "metadata": {
        "id": "g0H1Ku6bTeOP"
      },
      "source": [
        "*Answer question regarding choice of $\\epsilon$ here*"
      ]
    },
    {
      "cell_type": "markdown",
      "metadata": {
        "id": "iRyZ-15nTlAl"
      },
      "source": [
        "*Answer question regarding choice of $\\sigma^2$ here*"
      ]
    },
    {
      "cell_type": "code",
      "execution_count": null,
      "metadata": {
        "id": "N31Aws8oTn9O"
      },
      "outputs": [],
      "source": [
        "# implement the MH algorithm here"
      ]
    },
    {
      "cell_type": "markdown",
      "metadata": {
        "id": "25irRGoYUljq"
      },
      "source": [
        "****\n",
        "# **Analysis**\n",
        "\n",
        "After performing our convergence diagnostics and tuning our MH algorithm based on the convergence analysis, we are now content with our MH samples. It is time to evaluate the Bayes risk.\n",
        "\n",
        "Let $$C(x=1, h) = \\begin{cases}500 &: h = 0\\\\ -10000 &: h=1 \\end{cases}$$ and $$C(x=0, h) = -1000, \\text{for $h=0$ and $h=1$.}$$\n",
        "\n",
        "**Q3.3.1 Explain this cost function in words.**"
      ]
    },
    {
      "cell_type": "markdown",
      "metadata": {
        "id": "kVuhdwVOZCs-"
      },
      "source": [
        "*Answer here*"
      ]
    },
    {
      "cell_type": "markdown",
      "metadata": {
        "id": "rb6bgNH1Z_YC"
      },
      "source": [
        "**Q3.3.2 Compute the risk of breaking in or not breaking in between 01.00-02.00, 13.00-14.00, and between 21.00-22.00. According to the results, when should we break in? Explain the results.**"
      ]
    },
    {
      "cell_type": "markdown",
      "metadata": {
        "id": "IdtQNIGUeOWy"
      },
      "source": [
        "****\n",
        "# **Modifying the model**\n",
        "A problem with the above model is that it does not let us incorporate our prior believes of ***when*** it is more probable that the home owners are home. It is reasonable to believe that the house is empty more often during day time than night time, for instance.\n",
        "\n",
        "**Q3.4 (Worth 5 points)**\n",
        "\n",
        "\n",
        "Here, modify the prior on $\\theta$ such that its hyperparameters depend on $Δt$, resulting in higher a priori probability that the house is empty between 08.00 and 17.00. Hint: use indicator functions. Clearly formulate the new generative model.\n",
        "\n",
        "After the modification of the model, rerun the experiments above and re-evaluate the risks. ***Do not delete your previous results in the cells above! Neatly organize new code and text cells below.***\n",
        "\n",
        "What are your reflections on the results after the modification?"
      ]
    }
  ],
  "metadata": {
    "colab": {
      "provenance": []
    },
    "kernelspec": {
      "display_name": "Python 3",
      "name": "python3"
    },
    "language_info": {
      "name": "python"
    }
  },
  "nbformat": 4,
  "nbformat_minor": 0
}
